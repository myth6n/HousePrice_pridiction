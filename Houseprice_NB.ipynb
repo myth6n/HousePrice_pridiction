{
 "cells": [
  {
   "cell_type": "code",
   "execution_count": null,
   "metadata": {},
   "outputs": [],
   "source": []
  }
 ],
 "metadata": {
  "kernelspec": {
   "display_name": "virtual",
   "language": "python",
   "name": "python3"
  },
  "language_info": {
   "name": "python",
   "version": "3.7.8"
  },
  "orig_nbformat": 4,
  "vscode": {
   "interpreter": {
    "hash": "8d8cba1176b72f04e0f9eef8ad4888c8841862ef49ab20a0f35f2029463e9f9d"
   }
  }
 },
 "nbformat": 4,
 "nbformat_minor": 2
}
